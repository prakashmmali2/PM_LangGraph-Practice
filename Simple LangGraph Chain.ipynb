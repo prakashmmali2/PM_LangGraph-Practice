{
 "cells": [
  {
   "cell_type": "code",
   "execution_count": 1,
   "id": "22a46c02-9789-4bd1-81a5-27792d16c0cf",
   "metadata": {},
   "outputs": [],
   "source": [
    "from typing import TypedDict\n",
    "from langgraph.graph import StateGraph, END"
   ]
  },
  {
   "cell_type": "code",
   "execution_count": 2,
   "id": "8adc42a4-ed63-432a-bbfc-30883ef841f7",
   "metadata": {},
   "outputs": [],
   "source": [
    "class MyState(TypedDict):\n",
    "    name: str\n",
    "    message: str"
   ]
  },
  {
   "cell_type": "code",
   "execution_count": 3,
   "id": "ace8aad1-773f-454d-884d-d6e76fde95f1",
   "metadata": {},
   "outputs": [],
   "source": [
    "def greet(state: MyState) -> MyState:\n",
    "    return {\"name\": state[\"name\"], \"message\": f\"Hello, {state['name']}!\"}\n",
    "\n",
    "def shout(state: MyState) -> MyState:\n",
    "    return {\"name\": state[\"name\"], \"message\": state[\"message\"].upper()}"
   ]
  },
  {
   "cell_type": "code",
   "execution_count": 4,
   "id": "410c063e-0689-4e70-9a29-8e0d8b81549b",
   "metadata": {},
   "outputs": [
    {
     "data": {
      "text/plain": [
       "<langgraph.graph.state.StateGraph at 0x25e5d19dd00>"
      ]
     },
     "execution_count": 4,
     "metadata": {},
     "output_type": "execute_result"
    }
   ],
   "source": [
    "builder = StateGraph(MyState)\n",
    "builder.add_node(\"greet\", greet)\n",
    "builder.add_node(\"shout\", shout)\n",
    "\n",
    "builder.set_entry_point(\"greet\")\n",
    "builder.add_edge(\"greet\", \"shout\")\n",
    "builder.add_edge(\"shout\", END)\n"
   ]
  },
  {
   "cell_type": "code",
   "execution_count": 5,
   "id": "0dfbe3aa-3288-4359-a45f-787f3866f58f",
   "metadata": {},
   "outputs": [
    {
     "name": "stdout",
     "output_type": "stream",
     "text": [
      "{'name': 'Prakash', 'message': 'HELLO, PRAKASH!'}\n"
     ]
    }
   ],
   "source": [
    "graph = builder.compile()\n",
    "result = graph.invoke({\"name\": \"Prakash\", \"message\": \"\"})\n",
    "print(result)"
   ]
  }
 ],
 "metadata": {
  "kernelspec": {
   "display_name": "Python 3 (ipykernel)",
   "language": "python",
   "name": "python3"
  },
  "language_info": {
   "codemirror_mode": {
    "name": "ipython",
    "version": 3
   },
   "file_extension": ".py",
   "mimetype": "text/x-python",
   "name": "python",
   "nbconvert_exporter": "python",
   "pygments_lexer": "ipython3",
   "version": "3.12.4"
  }
 },
 "nbformat": 4,
 "nbformat_minor": 5
}
