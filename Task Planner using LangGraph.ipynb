{
 "cells": [
  {
   "cell_type": "code",
   "execution_count": 1,
   "id": "86730b69-7dcf-44c6-b0e2-0309f2fce69a",
   "metadata": {},
   "outputs": [],
   "source": [
    "from typing import TypedDict\n",
    "from langgraph.graph import StateGraph, END"
   ]
  },
  {
   "cell_type": "code",
   "execution_count": 2,
   "id": "0c1ee89a-22ff-45ea-9631-2cc05b8077f6",
   "metadata": {},
   "outputs": [],
   "source": [
    "# Step 1: Define the structure of the state\n",
    "class PlannerState(TypedDict):\n",
    "    goal: str\n",
    "    tasks: list[str]"
   ]
  },
  {
   "cell_type": "code",
   "execution_count": 3,
   "id": "9ecb6c01-fe86-4d2b-a588-f1835b43e4d8",
   "metadata": {},
   "outputs": [],
   "source": [
    "def get_user_goal(state: PlannerState) -> PlannerState:\n",
    "    # Normally you’d collect this from UI or input — here it’s preset\n",
    "    return {\n",
    "        \"goal\": \"Learn Python for data science\",\n",
    "        \"tasks\": []\n",
    "    }"
   ]
  },
  {
   "cell_type": "code",
   "execution_count": 4,
   "id": "413a9757-7a79-4c83-b89b-8003a5a0dc71",
   "metadata": {},
   "outputs": [],
   "source": [
    "def plan_tasks(state: PlannerState) -> PlannerState:\n",
    "    goal = state[\"goal\"]\n",
    "    # Very basic task generation based on goal (no LLM used)\n",
    "    task_map = {\n",
    "        \"Learn Python for data science\": [\n",
    "            \"1. Learn Python basics (variables, loops, functions)\",\n",
    "            \"2. Study Pandas, NumPy, and Matplotlib\",\n",
    "            \"3. Do a beginner project (e.g., Titanic dataset)\"\n",
    "        ],\n",
    "        \"Build a website\": [\n",
    "            \"1. Learn HTML & CSS\",\n",
    "            \"2. Understand JavaScript basics\",\n",
    "            \"3. Build a simple portfolio site\"\n",
    "        ]\n",
    "    }\n",
    "    tasks = task_map.get(goal, [\"1. Define tasks manually\", \"2. Research online\", \"3. Start building\"])\n",
    "    return {\"goal\": goal, \"tasks\": tasks}"
   ]
  },
  {
   "cell_type": "code",
   "execution_count": 5,
   "id": "20494a0e-9fdd-4b8e-a13d-519ee7730d74",
   "metadata": {},
   "outputs": [
    {
     "data": {
      "text/plain": [
       "<langgraph.graph.state.StateGraph at 0x2ad82cbff50>"
      ]
     },
     "execution_count": 5,
     "metadata": {},
     "output_type": "execute_result"
    }
   ],
   "source": [
    "builder = StateGraph(PlannerState)\n",
    "\n",
    "builder.add_node(\"get_goal\", get_user_goal)\n",
    "builder.add_node(\"plan_tasks\", plan_tasks)\n",
    "\n",
    "builder.set_entry_point(\"get_goal\")\n",
    "builder.add_edge(\"get_goal\", \"plan_tasks\")\n",
    "builder.add_edge(\"plan_tasks\", END)"
   ]
  },
  {
   "cell_type": "code",
   "execution_count": 6,
   "id": "d32243f5-95ab-45c9-8c45-c5b5c754c802",
   "metadata": {},
   "outputs": [],
   "source": [
    "graph = builder.compile()\n",
    "output = graph.invoke({\"goal\": \"\", \"tasks\": []})\n"
   ]
  },
  {
   "cell_type": "code",
   "execution_count": 7,
   "id": "add05813-e164-433d-acf3-95499668cfa7",
   "metadata": {},
   "outputs": [
    {
     "name": "stdout",
     "output_type": "stream",
     "text": [
      "🎯 Goal: Learn Python for data science\n",
      "📝 Suggested Tasks:\n",
      " - 1. Learn Python basics (variables, loops, functions)\n",
      " - 2. Study Pandas, NumPy, and Matplotlib\n",
      " - 3. Do a beginner project (e.g., Titanic dataset)\n"
     ]
    }
   ],
   "source": [
    "print(\"🎯 Goal:\", output[\"goal\"])\n",
    "print(\"📝 Suggested Tasks:\")\n",
    "for task in output[\"tasks\"]:\n",
    "    print(\" -\", task)\n"
   ]
  }
 ],
 "metadata": {
  "kernelspec": {
   "display_name": "Python 3 (ipykernel)",
   "language": "python",
   "name": "python3"
  },
  "language_info": {
   "codemirror_mode": {
    "name": "ipython",
    "version": 3
   },
   "file_extension": ".py",
   "mimetype": "text/x-python",
   "name": "python",
   "nbconvert_exporter": "python",
   "pygments_lexer": "ipython3",
   "version": "3.12.4"
  }
 },
 "nbformat": 4,
 "nbformat_minor": 5
}
